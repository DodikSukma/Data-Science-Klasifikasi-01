{
 "cells": [
  {
   "cell_type": "markdown",
   "metadata": {},
   "source": [
    "# Mempersiapankan Module"
   ]
  },
  {
   "cell_type": "code",
   "execution_count": 47,
   "metadata": {},
   "outputs": [
    {
     "name": "stdout",
     "output_type": "stream",
     "text": [
      "Module Siap\n"
     ]
    }
   ],
   "source": [
    "import pandas as pd                     # digunakan untuk membaca data\n",
    "import numpy as np                      # untuk melakukan perhitungan matematika\n",
    "import matplotlib.pyplot as plt         # untuk melakukan penampilan grafik\n",
    "\n",
    "print(\"Module Siap\")"
   ]
  },
  {
   "cell_type": "code",
   "execution_count": 48,
   "metadata": {},
   "outputs": [],
   "source": [
    "# Membaca Data\n",
    "mahasiswa = pd.read_excel(\"Data Kelulusan Mahasiswa.xlsx\")"
   ]
  },
  {
   "cell_type": "code",
   "execution_count": 49,
   "metadata": {},
   "outputs": [
    {
     "data": {
      "text/html": [
       "<div>\n",
       "<style scoped>\n",
       "    .dataframe tbody tr th:only-of-type {\n",
       "        vertical-align: middle;\n",
       "    }\n",
       "\n",
       "    .dataframe tbody tr th {\n",
       "        vertical-align: top;\n",
       "    }\n",
       "\n",
       "    .dataframe thead th {\n",
       "        text-align: right;\n",
       "    }\n",
       "</style>\n",
       "<table border=\"1\" class=\"dataframe\">\n",
       "  <thead>\n",
       "    <tr style=\"text-align: right;\">\n",
       "      <th></th>\n",
       "      <th>JenisKelamin</th>\n",
       "      <th>StatusMahasiswa</th>\n",
       "      <th>Umur</th>\n",
       "      <th>StatusNikah</th>\n",
       "      <th>IPS1</th>\n",
       "      <th>IPS2</th>\n",
       "      <th>IPS3</th>\n",
       "      <th>IPS4</th>\n",
       "      <th>IPS5</th>\n",
       "      <th>IPS6</th>\n",
       "      <th>IPS7</th>\n",
       "      <th>IPS8</th>\n",
       "      <th>IPK</th>\n",
       "      <th>StatusKelulusan</th>\n",
       "    </tr>\n",
       "  </thead>\n",
       "  <tbody>\n",
       "    <tr>\n",
       "      <th>0</th>\n",
       "      <td>0</td>\n",
       "      <td>1</td>\n",
       "      <td>28</td>\n",
       "      <td>0</td>\n",
       "      <td>2.76</td>\n",
       "      <td>2.80</td>\n",
       "      <td>3.20</td>\n",
       "      <td>3.17</td>\n",
       "      <td>2.98</td>\n",
       "      <td>3.00</td>\n",
       "      <td>3.03</td>\n",
       "      <td>2.0</td>\n",
       "      <td>2.86750</td>\n",
       "      <td>0</td>\n",
       "    </tr>\n",
       "    <tr>\n",
       "      <th>1</th>\n",
       "      <td>0</td>\n",
       "      <td>0</td>\n",
       "      <td>32</td>\n",
       "      <td>0</td>\n",
       "      <td>3.00</td>\n",
       "      <td>3.30</td>\n",
       "      <td>3.14</td>\n",
       "      <td>3.14</td>\n",
       "      <td>2.84</td>\n",
       "      <td>3.13</td>\n",
       "      <td>3.25</td>\n",
       "      <td>2.0</td>\n",
       "      <td>2.97500</td>\n",
       "      <td>0</td>\n",
       "    </tr>\n",
       "    <tr>\n",
       "      <th>2</th>\n",
       "      <td>0</td>\n",
       "      <td>1</td>\n",
       "      <td>29</td>\n",
       "      <td>0</td>\n",
       "      <td>3.50</td>\n",
       "      <td>3.30</td>\n",
       "      <td>3.70</td>\n",
       "      <td>3.29</td>\n",
       "      <td>3.53</td>\n",
       "      <td>3.72</td>\n",
       "      <td>3.73</td>\n",
       "      <td>2.0</td>\n",
       "      <td>3.34625</td>\n",
       "      <td>0</td>\n",
       "    </tr>\n",
       "    <tr>\n",
       "      <th>3</th>\n",
       "      <td>0</td>\n",
       "      <td>0</td>\n",
       "      <td>27</td>\n",
       "      <td>0</td>\n",
       "      <td>3.17</td>\n",
       "      <td>3.41</td>\n",
       "      <td>3.61</td>\n",
       "      <td>3.36</td>\n",
       "      <td>3.48</td>\n",
       "      <td>3.63</td>\n",
       "      <td>3.46</td>\n",
       "      <td>2.0</td>\n",
       "      <td>3.26500</td>\n",
       "      <td>0</td>\n",
       "    </tr>\n",
       "    <tr>\n",
       "      <th>4</th>\n",
       "      <td>0</td>\n",
       "      <td>1</td>\n",
       "      <td>29</td>\n",
       "      <td>0</td>\n",
       "      <td>2.90</td>\n",
       "      <td>2.89</td>\n",
       "      <td>3.30</td>\n",
       "      <td>2.85</td>\n",
       "      <td>2.98</td>\n",
       "      <td>3.00</td>\n",
       "      <td>3.08</td>\n",
       "      <td>2.0</td>\n",
       "      <td>2.87500</td>\n",
       "      <td>0</td>\n",
       "    </tr>\n",
       "    <tr>\n",
       "      <th>5</th>\n",
       "      <td>1</td>\n",
       "      <td>1</td>\n",
       "      <td>27</td>\n",
       "      <td>0</td>\n",
       "      <td>2.95</td>\n",
       "      <td>2.82</td>\n",
       "      <td>3.09</td>\n",
       "      <td>3.10</td>\n",
       "      <td>2.78</td>\n",
       "      <td>3.16</td>\n",
       "      <td>3.23</td>\n",
       "      <td>2.0</td>\n",
       "      <td>2.89125</td>\n",
       "      <td>0</td>\n",
       "    </tr>\n",
       "    <tr>\n",
       "      <th>6</th>\n",
       "      <td>0</td>\n",
       "      <td>0</td>\n",
       "      <td>26</td>\n",
       "      <td>0</td>\n",
       "      <td>2.76</td>\n",
       "      <td>3.14</td>\n",
       "      <td>2.60</td>\n",
       "      <td>2.95</td>\n",
       "      <td>3.23</td>\n",
       "      <td>3.33</td>\n",
       "      <td>3.30</td>\n",
       "      <td>3.3</td>\n",
       "      <td>3.07625</td>\n",
       "      <td>1</td>\n",
       "    </tr>\n",
       "    <tr>\n",
       "      <th>7</th>\n",
       "      <td>0</td>\n",
       "      <td>0</td>\n",
       "      <td>27</td>\n",
       "      <td>0</td>\n",
       "      <td>2.62</td>\n",
       "      <td>2.89</td>\n",
       "      <td>2.32</td>\n",
       "      <td>2.50</td>\n",
       "      <td>2.50</td>\n",
       "      <td>2.86</td>\n",
       "      <td>3.05</td>\n",
       "      <td>2.5</td>\n",
       "      <td>2.65500</td>\n",
       "      <td>1</td>\n",
       "    </tr>\n",
       "    <tr>\n",
       "      <th>8</th>\n",
       "      <td>0</td>\n",
       "      <td>1</td>\n",
       "      <td>25</td>\n",
       "      <td>1</td>\n",
       "      <td>3.60</td>\n",
       "      <td>3.54</td>\n",
       "      <td>3.52</td>\n",
       "      <td>3.39</td>\n",
       "      <td>3.52</td>\n",
       "      <td>3.68</td>\n",
       "      <td>3.15</td>\n",
       "      <td>2.0</td>\n",
       "      <td>3.30000</td>\n",
       "      <td>0</td>\n",
       "    </tr>\n",
       "    <tr>\n",
       "      <th>9</th>\n",
       "      <td>0</td>\n",
       "      <td>1</td>\n",
       "      <td>28</td>\n",
       "      <td>0</td>\n",
       "      <td>2.71</td>\n",
       "      <td>2.55</td>\n",
       "      <td>1.77</td>\n",
       "      <td>2.11</td>\n",
       "      <td>1.93</td>\n",
       "      <td>2.13</td>\n",
       "      <td>1.78</td>\n",
       "      <td>0.2</td>\n",
       "      <td>1.89750</td>\n",
       "      <td>0</td>\n",
       "    </tr>\n",
       "  </tbody>\n",
       "</table>\n",
       "</div>"
      ],
      "text/plain": [
       "   JenisKelamin  StatusMahasiswa  Umur  StatusNikah  IPS1  IPS2  IPS3  IPS4  \\\n",
       "0             0                1    28            0  2.76  2.80  3.20  3.17   \n",
       "1             0                0    32            0  3.00  3.30  3.14  3.14   \n",
       "2             0                1    29            0  3.50  3.30  3.70  3.29   \n",
       "3             0                0    27            0  3.17  3.41  3.61  3.36   \n",
       "4             0                1    29            0  2.90  2.89  3.30  2.85   \n",
       "5             1                1    27            0  2.95  2.82  3.09  3.10   \n",
       "6             0                0    26            0  2.76  3.14  2.60  2.95   \n",
       "7             0                0    27            0  2.62  2.89  2.32  2.50   \n",
       "8             0                1    25            1  3.60  3.54  3.52  3.39   \n",
       "9             0                1    28            0  2.71  2.55  1.77  2.11   \n",
       "\n",
       "   IPS5  IPS6  IPS7  IPS8     IPK   StatusKelulusan  \n",
       "0  2.98  3.00  3.03   2.0  2.86750                0  \n",
       "1  2.84  3.13  3.25   2.0  2.97500                0  \n",
       "2  3.53  3.72  3.73   2.0  3.34625                0  \n",
       "3  3.48  3.63  3.46   2.0  3.26500                0  \n",
       "4  2.98  3.00  3.08   2.0  2.87500                0  \n",
       "5  2.78  3.16  3.23   2.0  2.89125                0  \n",
       "6  3.23  3.33  3.30   3.3  3.07625                1  \n",
       "7  2.50  2.86  3.05   2.5  2.65500                1  \n",
       "8  3.52  3.68  3.15   2.0  3.30000                0  \n",
       "9  1.93  2.13  1.78   0.2  1.89750                0  "
      ]
     },
     "execution_count": 49,
     "metadata": {},
     "output_type": "execute_result"
    }
   ],
   "source": [
    "# membaca data\n",
    "mahasiswa.head(10)"
   ]
  },
  {
   "cell_type": "code",
   "execution_count": 50,
   "metadata": {},
   "outputs": [
    {
     "data": {
      "text/plain": [
       "Index(['JenisKelamin', 'StatusMahasiswa', 'Umur', 'StatusNikah', 'IPS1',\n",
       "       'IPS2', 'IPS3', 'IPS4', 'IPS5', 'IPS6', 'IPS7', 'IPS8', 'IPK ',\n",
       "       'StatusKelulusan'],\n",
       "      dtype='object')"
      ]
     },
     "execution_count": 50,
     "metadata": {},
     "output_type": "execute_result"
    }
   ],
   "source": [
    "# melihat colom yang ada\n",
    "mahasiswa.columns"
   ]
  },
  {
   "cell_type": "markdown",
   "metadata": {},
   "source": [
    "membagi kolom menjadi variabel x dan variabel y\n",
    "x = status kelulusan\n",
    "y = kolom yang lain"
   ]
  },
  {
   "cell_type": "code",
   "execution_count": 51,
   "metadata": {},
   "outputs": [],
   "source": [
    "x = mahasiswa.drop([\"StatusKelulusan\"],axis=1)"
   ]
  },
  {
   "cell_type": "code",
   "execution_count": 52,
   "metadata": {},
   "outputs": [
    {
     "data": {
      "text/html": [
       "<div>\n",
       "<style scoped>\n",
       "    .dataframe tbody tr th:only-of-type {\n",
       "        vertical-align: middle;\n",
       "    }\n",
       "\n",
       "    .dataframe tbody tr th {\n",
       "        vertical-align: top;\n",
       "    }\n",
       "\n",
       "    .dataframe thead th {\n",
       "        text-align: right;\n",
       "    }\n",
       "</style>\n",
       "<table border=\"1\" class=\"dataframe\">\n",
       "  <thead>\n",
       "    <tr style=\"text-align: right;\">\n",
       "      <th></th>\n",
       "      <th>JenisKelamin</th>\n",
       "      <th>StatusMahasiswa</th>\n",
       "      <th>Umur</th>\n",
       "      <th>StatusNikah</th>\n",
       "      <th>IPS1</th>\n",
       "      <th>IPS2</th>\n",
       "      <th>IPS3</th>\n",
       "      <th>IPS4</th>\n",
       "      <th>IPS5</th>\n",
       "      <th>IPS6</th>\n",
       "      <th>IPS7</th>\n",
       "      <th>IPS8</th>\n",
       "      <th>IPK</th>\n",
       "    </tr>\n",
       "  </thead>\n",
       "  <tbody>\n",
       "    <tr>\n",
       "      <th>0</th>\n",
       "      <td>0</td>\n",
       "      <td>1</td>\n",
       "      <td>28</td>\n",
       "      <td>0</td>\n",
       "      <td>2.76</td>\n",
       "      <td>2.80</td>\n",
       "      <td>3.20</td>\n",
       "      <td>3.17</td>\n",
       "      <td>2.98</td>\n",
       "      <td>3.00</td>\n",
       "      <td>3.03</td>\n",
       "      <td>2.0</td>\n",
       "      <td>2.86750</td>\n",
       "    </tr>\n",
       "    <tr>\n",
       "      <th>1</th>\n",
       "      <td>0</td>\n",
       "      <td>0</td>\n",
       "      <td>32</td>\n",
       "      <td>0</td>\n",
       "      <td>3.00</td>\n",
       "      <td>3.30</td>\n",
       "      <td>3.14</td>\n",
       "      <td>3.14</td>\n",
       "      <td>2.84</td>\n",
       "      <td>3.13</td>\n",
       "      <td>3.25</td>\n",
       "      <td>2.0</td>\n",
       "      <td>2.97500</td>\n",
       "    </tr>\n",
       "    <tr>\n",
       "      <th>2</th>\n",
       "      <td>0</td>\n",
       "      <td>1</td>\n",
       "      <td>29</td>\n",
       "      <td>0</td>\n",
       "      <td>3.50</td>\n",
       "      <td>3.30</td>\n",
       "      <td>3.70</td>\n",
       "      <td>3.29</td>\n",
       "      <td>3.53</td>\n",
       "      <td>3.72</td>\n",
       "      <td>3.73</td>\n",
       "      <td>2.0</td>\n",
       "      <td>3.34625</td>\n",
       "    </tr>\n",
       "    <tr>\n",
       "      <th>3</th>\n",
       "      <td>0</td>\n",
       "      <td>0</td>\n",
       "      <td>27</td>\n",
       "      <td>0</td>\n",
       "      <td>3.17</td>\n",
       "      <td>3.41</td>\n",
       "      <td>3.61</td>\n",
       "      <td>3.36</td>\n",
       "      <td>3.48</td>\n",
       "      <td>3.63</td>\n",
       "      <td>3.46</td>\n",
       "      <td>2.0</td>\n",
       "      <td>3.26500</td>\n",
       "    </tr>\n",
       "    <tr>\n",
       "      <th>4</th>\n",
       "      <td>0</td>\n",
       "      <td>1</td>\n",
       "      <td>29</td>\n",
       "      <td>0</td>\n",
       "      <td>2.90</td>\n",
       "      <td>2.89</td>\n",
       "      <td>3.30</td>\n",
       "      <td>2.85</td>\n",
       "      <td>2.98</td>\n",
       "      <td>3.00</td>\n",
       "      <td>3.08</td>\n",
       "      <td>2.0</td>\n",
       "      <td>2.87500</td>\n",
       "    </tr>\n",
       "    <tr>\n",
       "      <th>5</th>\n",
       "      <td>1</td>\n",
       "      <td>1</td>\n",
       "      <td>27</td>\n",
       "      <td>0</td>\n",
       "      <td>2.95</td>\n",
       "      <td>2.82</td>\n",
       "      <td>3.09</td>\n",
       "      <td>3.10</td>\n",
       "      <td>2.78</td>\n",
       "      <td>3.16</td>\n",
       "      <td>3.23</td>\n",
       "      <td>2.0</td>\n",
       "      <td>2.89125</td>\n",
       "    </tr>\n",
       "    <tr>\n",
       "      <th>6</th>\n",
       "      <td>0</td>\n",
       "      <td>0</td>\n",
       "      <td>26</td>\n",
       "      <td>0</td>\n",
       "      <td>2.76</td>\n",
       "      <td>3.14</td>\n",
       "      <td>2.60</td>\n",
       "      <td>2.95</td>\n",
       "      <td>3.23</td>\n",
       "      <td>3.33</td>\n",
       "      <td>3.30</td>\n",
       "      <td>3.3</td>\n",
       "      <td>3.07625</td>\n",
       "    </tr>\n",
       "    <tr>\n",
       "      <th>7</th>\n",
       "      <td>0</td>\n",
       "      <td>0</td>\n",
       "      <td>27</td>\n",
       "      <td>0</td>\n",
       "      <td>2.62</td>\n",
       "      <td>2.89</td>\n",
       "      <td>2.32</td>\n",
       "      <td>2.50</td>\n",
       "      <td>2.50</td>\n",
       "      <td>2.86</td>\n",
       "      <td>3.05</td>\n",
       "      <td>2.5</td>\n",
       "      <td>2.65500</td>\n",
       "    </tr>\n",
       "    <tr>\n",
       "      <th>8</th>\n",
       "      <td>0</td>\n",
       "      <td>1</td>\n",
       "      <td>25</td>\n",
       "      <td>1</td>\n",
       "      <td>3.60</td>\n",
       "      <td>3.54</td>\n",
       "      <td>3.52</td>\n",
       "      <td>3.39</td>\n",
       "      <td>3.52</td>\n",
       "      <td>3.68</td>\n",
       "      <td>3.15</td>\n",
       "      <td>2.0</td>\n",
       "      <td>3.30000</td>\n",
       "    </tr>\n",
       "    <tr>\n",
       "      <th>9</th>\n",
       "      <td>0</td>\n",
       "      <td>1</td>\n",
       "      <td>28</td>\n",
       "      <td>0</td>\n",
       "      <td>2.71</td>\n",
       "      <td>2.55</td>\n",
       "      <td>1.77</td>\n",
       "      <td>2.11</td>\n",
       "      <td>1.93</td>\n",
       "      <td>2.13</td>\n",
       "      <td>1.78</td>\n",
       "      <td>0.2</td>\n",
       "      <td>1.89750</td>\n",
       "    </tr>\n",
       "  </tbody>\n",
       "</table>\n",
       "</div>"
      ],
      "text/plain": [
       "   JenisKelamin  StatusMahasiswa  Umur  StatusNikah  IPS1  IPS2  IPS3  IPS4  \\\n",
       "0             0                1    28            0  2.76  2.80  3.20  3.17   \n",
       "1             0                0    32            0  3.00  3.30  3.14  3.14   \n",
       "2             0                1    29            0  3.50  3.30  3.70  3.29   \n",
       "3             0                0    27            0  3.17  3.41  3.61  3.36   \n",
       "4             0                1    29            0  2.90  2.89  3.30  2.85   \n",
       "5             1                1    27            0  2.95  2.82  3.09  3.10   \n",
       "6             0                0    26            0  2.76  3.14  2.60  2.95   \n",
       "7             0                0    27            0  2.62  2.89  2.32  2.50   \n",
       "8             0                1    25            1  3.60  3.54  3.52  3.39   \n",
       "9             0                1    28            0  2.71  2.55  1.77  2.11   \n",
       "\n",
       "   IPS5  IPS6  IPS7  IPS8     IPK   \n",
       "0  2.98  3.00  3.03   2.0  2.86750  \n",
       "1  2.84  3.13  3.25   2.0  2.97500  \n",
       "2  3.53  3.72  3.73   2.0  3.34625  \n",
       "3  3.48  3.63  3.46   2.0  3.26500  \n",
       "4  2.98  3.00  3.08   2.0  2.87500  \n",
       "5  2.78  3.16  3.23   2.0  2.89125  \n",
       "6  3.23  3.33  3.30   3.3  3.07625  \n",
       "7  2.50  2.86  3.05   2.5  2.65500  \n",
       "8  3.52  3.68  3.15   2.0  3.30000  \n",
       "9  1.93  2.13  1.78   0.2  1.89750  "
      ]
     },
     "execution_count": 52,
     "metadata": {},
     "output_type": "execute_result"
    }
   ],
   "source": [
    "x.head(10)"
   ]
  },
  {
   "cell_type": "code",
   "execution_count": 53,
   "metadata": {},
   "outputs": [],
   "source": [
    "y = mahasiswa[\"StatusKelulusan\"]"
   ]
  },
  {
   "cell_type": "code",
   "execution_count": 54,
   "metadata": {},
   "outputs": [
    {
     "data": {
      "text/plain": [
       "0    0\n",
       "1    0\n",
       "2    0\n",
       "3    0\n",
       "4    0\n",
       "5    0\n",
       "6    1\n",
       "7    1\n",
       "8    0\n",
       "9    0\n",
       "Name: StatusKelulusan, dtype: int64"
      ]
     },
     "execution_count": 54,
     "metadata": {},
     "output_type": "execute_result"
    }
   ],
   "source": [
    "y.head(10)"
   ]
  },
  {
   "cell_type": "markdown",
   "metadata": {},
   "source": [
    "Dapat dilihat bahwa status kelulusan di atas masih terlambat\n",
    "* 0 Artinya terlambat\n",
    "* 1 Artinya tepat waktu"
   ]
  },
  {
   "cell_type": "markdown",
   "metadata": {},
   "source": [
    "# Import Model Naive Bayes"
   ]
  },
  {
   "cell_type": "code",
   "execution_count": 55,
   "metadata": {},
   "outputs": [],
   "source": [
    "from sklearn.naive_bayes import GaussianNB"
   ]
  },
  {
   "cell_type": "code",
   "execution_count": 56,
   "metadata": {},
   "outputs": [],
   "source": [
    "# memanggil fungsi gausian naive bayes\n",
    "nbc = GaussianNB()"
   ]
  },
  {
   "cell_type": "code",
   "execution_count": 57,
   "metadata": {},
   "outputs": [],
   "source": [
    "# memasukan data trening pada fungsi naive bayes\n",
    "data_training = nbc.fit(x,y)"
   ]
  },
  {
   "cell_type": "code",
   "execution_count": 58,
   "metadata": {},
   "outputs": [],
   "source": [
    "# melakukan prediksi pada data training\n",
    "\n",
    "y_predict = data_training.predict(x)"
   ]
  },
  {
   "cell_type": "code",
   "execution_count": 59,
   "metadata": {},
   "outputs": [
    {
     "name": "stdout",
     "output_type": "stream",
     "text": [
      "[0 1 1 1 0 0 1 0 0 0 1 0 0 0 1 0 1 0 0 1 1 1 1 0 0 0 0 0 1 1 0 1 0 1 1 1 1\n",
      " 1 0 1 0 0 1 1 1 1 1 1 1 1]\n"
     ]
    }
   ],
   "source": [
    "# melihat y predict\n",
    "print(y_predict)"
   ]
  },
  {
   "cell_type": "markdown",
   "metadata": {},
   "source": [
    "Membuat Inputan User"
   ]
  },
  {
   "cell_type": "code",
   "execution_count": 60,
   "metadata": {},
   "outputs": [],
   "source": [
    "# melakukan prediksi pada data inputan yang akan di prediksi\n",
    "Jenis_Kelamin = 1\n",
    "Status_Kerja = 0\n",
    "Umur = 25\n",
    "Status_Nikah = 1\n",
    "IPS1 = 3.12\n",
    "IPS2 = 2.75\n",
    "IPS3 = 2.05\n",
    "IPS4 = 3.01\n",
    "IPS5 = 3.56\n",
    "IPS6 = 3.22\n",
    "IPS7 = 3.67\n",
    "IPS8 = 3.45\n",
    "IPK = np.average([IPS1,IPS2,IPS3,IPS4,IPS5,IPS6,IPS7,IPS8])\n",
    "data_testing = [[Jenis_Kelamin, Status_Kerja, Umur,Status_Nikah, IPS1,\n",
    "       IPS2, IPS3, IPS4, IPS5,IPS6, IPS7, IPS8, IPK]]"
   ]
  },
  {
   "cell_type": "code",
   "execution_count": 61,
   "metadata": {},
   "outputs": [
    {
     "name": "stdout",
     "output_type": "stream",
     "text": [
      "[[1, 0, 25, 1, 3.12, 2.75, 2.05, 3.01, 3.56, 3.22, 3.67, 3.45, 3.10375]]\n"
     ]
    }
   ],
   "source": [
    "print(data_testing)"
   ]
  },
  {
   "cell_type": "code",
   "execution_count": 62,
   "metadata": {},
   "outputs": [
    {
     "name": "stderr",
     "output_type": "stream",
     "text": [
      "c:\\Python310\\lib\\site-packages\\sklearn\\base.py:450: UserWarning: X does not have valid feature names, but GaussianNB was fitted with feature names\n",
      "  warnings.warn(\n"
     ]
    }
   ],
   "source": [
    "# melakukan prediksi berdasarkan data inputan\n",
    "y_pred = data_training.predict(data_testing)"
   ]
  },
  {
   "cell_type": "markdown",
   "metadata": {},
   "source": [
    "Jika Hasilnya \n",
    "1 hasilnya tepat waktu \n",
    "0 Hasilnya terlambat"
   ]
  },
  {
   "cell_type": "code",
   "execution_count": 63,
   "metadata": {},
   "outputs": [],
   "source": [
    "# Membuat Fungsi apakah dia terlambat atau tepat waktu\n",
    "if y_pred == 0:\n",
    "    hasil = \"Terlambat\"\n",
    "elif y_pred == 1:\n",
    "    hasil = \"Tepat Waktu\"\n",
    "else:\n",
    "    hasil = \"KeyError\""
   ]
  },
  {
   "cell_type": "code",
   "execution_count": 64,
   "metadata": {},
   "outputs": [
    {
     "name": "stdout",
     "output_type": "stream",
     "text": [
      "Hasil Perdiksi adalah :  Terlambat\n"
     ]
    }
   ],
   "source": [
    "print(\"Hasil Perdiksi adalah : \",hasil)"
   ]
  },
  {
   "cell_type": "markdown",
   "metadata": {},
   "source": [
    "# Menghitung akurasi model"
   ]
  },
  {
   "cell_type": "code",
   "execution_count": 45,
   "metadata": {},
   "outputs": [
    {
     "name": "stdout",
     "output_type": "stream",
     "text": [
      "Nilai akurasi adalah = 0.70\n"
     ]
    }
   ],
   "source": [
    "# Menggunakan akurasi score\n",
    "from sklearn.metrics import accuracy_score\n",
    "print(f\"Nilai akurasi adalah = %0.2f\" % accuracy_score(y,y_predict))"
   ]
  },
  {
   "cell_type": "code",
   "execution_count": 68,
   "metadata": {},
   "outputs": [
    {
     "name": "stdout",
     "output_type": "stream",
     "text": [
      "              precision    recall  f1-score   support\n",
      "\n",
      "           0       0.73      0.64      0.68        25\n",
      "           1       0.68      0.76      0.72        25\n",
      "\n",
      "    accuracy                           0.70        50\n",
      "   macro avg       0.70      0.70      0.70        50\n",
      "weighted avg       0.70      0.70      0.70        50\n",
      "\n"
     ]
    }
   ],
   "source": [
    "# mencetak laporan hasil Klasifikasi\n",
    "from sklearn.metrics import classification_report\n",
    "print(classification_report(y,y_predict))"
   ]
  }
 ],
 "metadata": {
  "kernelspec": {
   "display_name": "Python 3.10.5 64-bit",
   "language": "python",
   "name": "python3"
  },
  "language_info": {
   "codemirror_mode": {
    "name": "ipython",
    "version": 3
   },
   "file_extension": ".py",
   "mimetype": "text/x-python",
   "name": "python",
   "nbconvert_exporter": "python",
   "pygments_lexer": "ipython3",
   "version": "3.10.5"
  },
  "orig_nbformat": 4,
  "vscode": {
   "interpreter": {
    "hash": "369f2c481f4da34e4445cda3fffd2e751bd1c4d706f27375911949ba6bb62e1c"
   }
  }
 },
 "nbformat": 4,
 "nbformat_minor": 2
}
